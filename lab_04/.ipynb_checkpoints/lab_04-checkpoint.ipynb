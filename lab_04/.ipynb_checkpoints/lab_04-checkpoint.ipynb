{
 "cells": [
  {
   "cell_type": "markdown",
   "id": "7baeb2c4-ed4b-41e9-959c-5655e88f0f9d",
   "metadata": {},
   "source": [
    "# ATSC-411 - SYNOPTIC METEOROLOGY | LAB 4\n",
    "\n",
    "### QG-Omega: Q-Vectors"
   ]
  },
  {
   "cell_type": "markdown",
   "id": "41f0878c-ff0b-4268-be21-7ea7cb555c4e",
   "metadata": {},
   "source": [
    "----- \n",
    "\n",
    "## IMPORT PACKAGES \n",
    "Run this cell to import Python code packages that will help us get the data, process the data, conduct math operations, and build some maps."
   ]
  },
  {
   "cell_type": "code",
   "execution_count": 3,
   "id": "cefb7c5d-f989-4477-a87a-8fa2f0e8cae2",
   "metadata": {},
   "outputs": [],
   "source": [
    "from netCDF4 import Dataset\n",
    "import numpy as np\n",
    "import cartopy.crs as ccrs\n",
    "import cartopy.feature as cfeature\n",
    "import matplotlib.pyplot as plt\n",
    "import metpy.calc as mpcalc\n",
    "from metpy.units import units"
   ]
  },
  {
   "cell_type": "code",
   "execution_count": 2,
   "id": "6a96d6cb-701c-47ef-a240-bf1c311ab434",
   "metadata": {},
   "outputs": [
    {
     "name": "stderr",
     "output_type": "stream",
     "text": [
      "/research/modules/mpich/miniconda3/lib/python3.9/site-packages/paramiko/transport.py:219: CryptographyDeprecationWarning: Blowfish has been deprecated and will be removed in a future release\n",
      "  \"class\": algorithms.Blowfish,\n"
     ]
    }
   ],
   "source": []
  },
  {
   "cell_type": "code",
   "execution_count": null,
   "id": "772cdbad-6881-421e-a025-85759b09c10c",
   "metadata": {},
   "outputs": [],
   "source": []
  }
 ],
 "metadata": {
  "kernelspec": {
   "display_name": "MPICH",
   "language": "python",
   "name": "mpich"
  },
  "language_info": {
   "codemirror_mode": {
    "name": "ipython",
    "version": 3
   },
   "file_extension": ".py",
   "mimetype": "text/x-python",
   "name": "python",
   "nbconvert_exporter": "python",
   "pygments_lexer": "ipython3",
   "version": "3.9.19"
  }
 },
 "nbformat": 4,
 "nbformat_minor": 5
}
